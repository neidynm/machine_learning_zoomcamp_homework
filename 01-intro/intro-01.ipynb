{
 "cells": [
  {
   "cell_type": "code",
   "execution_count": 31,
   "id": "ae17c3dc-d043-45f9-8d30-77fbf4deb0b9",
   "metadata": {
    "scrolled": true
   },
   "outputs": [
    {
     "data": {
      "text/plain": [
       "'2.3.1'"
      ]
     },
     "execution_count": 31,
     "metadata": {},
     "output_type": "execute_result"
    }
   ],
   "source": [
    "import pandas as pd\n",
    "import numpy as np\n",
    "from numpy.linalg import inv  # <-- THIS LINE is crucial\n",
    "\n",
    "pd.__version__"
   ]
  },
  {
   "cell_type": "code",
   "execution_count": 32,
   "id": "006eb7f7-b97a-48cc-9d84-2c32a5929ba5",
   "metadata": {},
   "outputs": [
    {
     "data": {
      "text/html": [
       "<div>\n",
       "<style scoped>\n",
       "    .dataframe tbody tr th:only-of-type {\n",
       "        vertical-align: middle;\n",
       "    }\n",
       "\n",
       "    .dataframe tbody tr th {\n",
       "        vertical-align: top;\n",
       "    }\n",
       "\n",
       "    .dataframe thead th {\n",
       "        text-align: right;\n",
       "    }\n",
       "</style>\n",
       "<table border=\"1\" class=\"dataframe\">\n",
       "  <thead>\n",
       "    <tr style=\"text-align: right;\">\n",
       "      <th></th>\n",
       "      <th>engine_displacement</th>\n",
       "      <th>num_cylinders</th>\n",
       "      <th>horsepower</th>\n",
       "      <th>vehicle_weight</th>\n",
       "      <th>acceleration</th>\n",
       "      <th>model_year</th>\n",
       "      <th>origin</th>\n",
       "      <th>fuel_type</th>\n",
       "      <th>drivetrain</th>\n",
       "      <th>num_doors</th>\n",
       "      <th>fuel_efficiency_mpg</th>\n",
       "    </tr>\n",
       "  </thead>\n",
       "  <tbody>\n",
       "    <tr>\n",
       "      <th>0</th>\n",
       "      <td>170</td>\n",
       "      <td>3.0</td>\n",
       "      <td>159.0</td>\n",
       "      <td>3413.433759</td>\n",
       "      <td>17.7</td>\n",
       "      <td>2003</td>\n",
       "      <td>Europe</td>\n",
       "      <td>Gasoline</td>\n",
       "      <td>All-wheel drive</td>\n",
       "      <td>0.0</td>\n",
       "      <td>13.231729</td>\n",
       "    </tr>\n",
       "    <tr>\n",
       "      <th>1</th>\n",
       "      <td>130</td>\n",
       "      <td>5.0</td>\n",
       "      <td>97.0</td>\n",
       "      <td>3149.664934</td>\n",
       "      <td>17.8</td>\n",
       "      <td>2007</td>\n",
       "      <td>USA</td>\n",
       "      <td>Gasoline</td>\n",
       "      <td>Front-wheel drive</td>\n",
       "      <td>0.0</td>\n",
       "      <td>13.688217</td>\n",
       "    </tr>\n",
       "    <tr>\n",
       "      <th>2</th>\n",
       "      <td>170</td>\n",
       "      <td>NaN</td>\n",
       "      <td>78.0</td>\n",
       "      <td>3079.038997</td>\n",
       "      <td>15.1</td>\n",
       "      <td>2018</td>\n",
       "      <td>Europe</td>\n",
       "      <td>Gasoline</td>\n",
       "      <td>Front-wheel drive</td>\n",
       "      <td>0.0</td>\n",
       "      <td>14.246341</td>\n",
       "    </tr>\n",
       "    <tr>\n",
       "      <th>3</th>\n",
       "      <td>220</td>\n",
       "      <td>4.0</td>\n",
       "      <td>NaN</td>\n",
       "      <td>2542.392402</td>\n",
       "      <td>20.2</td>\n",
       "      <td>2009</td>\n",
       "      <td>USA</td>\n",
       "      <td>Diesel</td>\n",
       "      <td>All-wheel drive</td>\n",
       "      <td>2.0</td>\n",
       "      <td>16.912736</td>\n",
       "    </tr>\n",
       "    <tr>\n",
       "      <th>4</th>\n",
       "      <td>210</td>\n",
       "      <td>1.0</td>\n",
       "      <td>140.0</td>\n",
       "      <td>3460.870990</td>\n",
       "      <td>14.4</td>\n",
       "      <td>2009</td>\n",
       "      <td>Europe</td>\n",
       "      <td>Gasoline</td>\n",
       "      <td>All-wheel drive</td>\n",
       "      <td>2.0</td>\n",
       "      <td>12.488369</td>\n",
       "    </tr>\n",
       "  </tbody>\n",
       "</table>\n",
       "</div>"
      ],
      "text/plain": [
       "   engine_displacement  num_cylinders  horsepower  vehicle_weight  \\\n",
       "0                  170            3.0       159.0     3413.433759   \n",
       "1                  130            5.0        97.0     3149.664934   \n",
       "2                  170            NaN        78.0     3079.038997   \n",
       "3                  220            4.0         NaN     2542.392402   \n",
       "4                  210            1.0       140.0     3460.870990   \n",
       "\n",
       "   acceleration  model_year  origin fuel_type         drivetrain  num_doors  \\\n",
       "0          17.7        2003  Europe  Gasoline    All-wheel drive        0.0   \n",
       "1          17.8        2007     USA  Gasoline  Front-wheel drive        0.0   \n",
       "2          15.1        2018  Europe  Gasoline  Front-wheel drive        0.0   \n",
       "3          20.2        2009     USA    Diesel    All-wheel drive        2.0   \n",
       "4          14.4        2009  Europe  Gasoline    All-wheel drive        2.0   \n",
       "\n",
       "   fuel_efficiency_mpg  \n",
       "0            13.231729  \n",
       "1            13.688217  \n",
       "2            14.246341  \n",
       "3            16.912736  \n",
       "4            12.488369  "
      ]
     },
     "execution_count": 32,
     "metadata": {},
     "output_type": "execute_result"
    }
   ],
   "source": [
    "car_dataset = pd.read_csv('https://raw.githubusercontent.com/alexeygrigorev/datasets/master/car_fuel_efficiency.csv')\n",
    "\n",
    "car_dataset.head(5)"
   ]
  },
  {
   "cell_type": "code",
   "execution_count": 33,
   "id": "9860c80f-bee4-47c1-bc0d-f9732b335d27",
   "metadata": {},
   "outputs": [
    {
     "name": "stdout",
     "output_type": "stream",
     "text": [
      "Number of rows 9704\n"
     ]
    }
   ],
   "source": [
    "### How many rows in the dataset?\n",
    "number_of_rows = len(car_dataset)\n",
    "print(f\"Number of rows {number_of_rows}\")"
   ]
  },
  {
   "cell_type": "code",
   "execution_count": 34,
   "id": "55ca4960-9ce0-4e9e-a104-5caebb39abf4",
   "metadata": {},
   "outputs": [
    {
     "name": "stdout",
     "output_type": "stream",
     "text": [
      "Number of fuel types present in the dataset 2\n"
     ]
    }
   ],
   "source": [
    "##Q3. Fuel types\n",
    "### How many fuel types are presented in the dataset?\n",
    "num_fuel_types = car_dataset['fuel_type'].nunique()\n",
    "\n",
    "print(f\"Number of fuel types present in the dataset {num_fuel_types}\")"
   ]
  },
  {
   "cell_type": "code",
   "execution_count": 35,
   "id": "e605417e-f0d6-4608-a5d1-93cef285059e",
   "metadata": {},
   "outputs": [
    {
     "name": "stdout",
     "output_type": "stream",
     "text": [
      "Number of missing values: engine_displacement      0\n",
      "num_cylinders          482\n",
      "horsepower             708\n",
      "vehicle_weight           0\n",
      "acceleration           930\n",
      "model_year               0\n",
      "origin                   0\n",
      "fuel_type                0\n",
      "drivetrain               0\n",
      "num_doors              502\n",
      "fuel_efficiency_mpg      0\n",
      "dtype: int64\n"
     ]
    }
   ],
   "source": [
    "## Q4. Missing values\n",
    "### How many columns in the dataset have missing values?\n",
    "print(f\"Number of missing values: {car_dataset.isnull().sum()}\")"
   ]
  },
  {
   "cell_type": "code",
   "execution_count": 36,
   "id": "3fe24ec6-cf7d-46de-881d-fa09cadf94ca",
   "metadata": {},
   "outputs": [
    {
     "name": "stdout",
     "output_type": "stream",
     "text": [
      "Maximum fuel efficiency of cars from Asia: 23.759122836520497\n"
     ]
    }
   ],
   "source": [
    "##Q5. Max fuel efficiency\n",
    "###What's the maximum fuel efficiency of cars from Asia?\n",
    "\n",
    "max_cars_asia = car_dataset[car_dataset['origin'].isin(['Asia'])]['fuel_efficiency_mpg'].max()\n",
    "print(f\"Maximum fuel efficiency of cars from Asia: {max_cars_asia}\")"
   ]
  },
  {
   "cell_type": "code",
   "execution_count": 37,
   "id": "0594a6db-0f8f-4243-8128-67cf304f4856",
   "metadata": {},
   "outputs": [
    {
     "name": "stdout",
     "output_type": "stream",
     "text": [
      "First value of horsepower 149.0\n",
      "Second value of horsepower 149.0\n"
     ]
    }
   ],
   "source": [
    "##Q6. Median value of horsepower\n",
    "### Find the median value of horsepower column in the dataset.\n",
    "### Next, calculate the most frequent value of the same horsepower column.\n",
    "### Use fillna method to fill the missing values in horsepower column with the most frequent value from the previous step.\n",
    "### Now, calculate the median value of horsepower once again.\n",
    "\n",
    "\n",
    "median_horsepower = car_dataset['horsepower'].median()\n",
    "most_frequent_horsepower = car_dataset['horsepower'].value_counts().head(1)\n",
    "\n",
    "car_dataset['horsepower'] =  car_dataset['horsepower'].fillna(most_frequent_horsepower)\n",
    "second_median_horsepower = car_dataset['horsepower'].median()\n",
    "\n",
    "print(f\"First value of horsepower {median_horsepower}\")\n",
    "print(f\"Second value of horsepower {second_median_horsepower}\")\n"
   ]
  },
  {
   "cell_type": "code",
   "execution_count": 38,
   "id": "42c4a056-4be5-4150-a08d-a41021c1c8d1",
   "metadata": {},
   "outputs": [
    {
     "name": "stdout",
     "output_type": "stream",
     "text": [
      "Sum: 0.5187709081074016\n"
     ]
    }
   ],
   "source": [
    "##Q7. Sum of weights\n",
    "### Select all the cars from Asia\n",
    "\n",
    "cars_from_asia = car_dataset[car_dataset['origin'].isin(['Asia'])]\n",
    "### Select only columns vehicle_weight and model_year\n",
    "cars_from_asia = cars_from_asia[['vehicle_weight', 'model_year']]\n",
    "### Select the first 7 values\n",
    "cars_from_asia_first_seven = cars_from_asia.iloc[:7, :]\n",
    "\n",
    "### Get the underlying NumPy array. Let's call it X.\n",
    "X = cars_from_asia_first_seven.to_numpy()\n",
    "\n",
    "### Compute matrix-matrix multiplication between the transpose of X and X. To get the transpose, use X.T. Let's call the result XTX.\n",
    "# Get the transpose of X\n",
    "XT = X.T\n",
    "XTX = np.dot(XT, X)\n",
    "inverse = inv(XTX)\n",
    "\n",
    "### Invert XTX.\n",
    "inverse = inv(XTX)\n",
    "### Create an array y with values [1100, 1300, 800, 900, 1000, 1100, 1200].\n",
    "y = np.array([1100, 1300, 800, 900, 1000, 1100, 1200])\n",
    "### Multiply the inverse of XTX with the transpose of X, and then multiply the result by y. Call the result w.\n",
    "w = np.dot(np.dot(inverse, XT), y)\n",
    "### What's the sum of all the elements of the result?\n",
    "\n",
    "print(f\"Sum: {np.sum(w)}\")\n",
    "###Note: You just implemented linear regression. We'll talk about it in the next lesson.\n",
    "\n"
   ]
  },
  {
   "cell_type": "code",
   "execution_count": null,
   "id": "8232faab-8024-4375-8a38-564ecbed397c",
   "metadata": {},
   "outputs": [],
   "source": []
  }
 ],
 "metadata": {
  "kernelspec": {
   "display_name": "Python 3 (ipykernel)",
   "language": "python",
   "name": "python3"
  },
  "language_info": {
   "codemirror_mode": {
    "name": "ipython",
    "version": 3
   },
   "file_extension": ".py",
   "mimetype": "text/x-python",
   "name": "python",
   "nbconvert_exporter": "python",
   "pygments_lexer": "ipython3",
   "version": "3.12.1"
  }
 },
 "nbformat": 4,
 "nbformat_minor": 5
}
