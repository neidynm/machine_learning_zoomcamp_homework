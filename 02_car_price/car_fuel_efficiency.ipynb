{
 "cells": [
  {
   "cell_type": "code",
   "execution_count": 82,
   "id": "277e8116-d64c-44e9-9ffd-4942135c33dc",
   "metadata": {},
   "outputs": [],
   "source": [
    "import pandas as pd\n",
    "import numpy as np\n",
    "import matplotlib.pyplot as plt\n",
    "import seaborn as sns\n",
    "from pathlib import Path\n",
    "\n",
    "%matplotlib inline"
   ]
  },
  {
   "cell_type": "markdown",
   "id": "d438dd6d-4e90-4a77-b838-4c65850b1c27",
   "metadata": {},
   "source": [
    "## Preparing the Dataset"
   ]
  },
  {
   "cell_type": "code",
   "execution_count": 83,
   "id": "c519f196-1b6d-4895-8b25-19a9bba571a6",
   "metadata": {},
   "outputs": [],
   "source": [
    "def get_data(file_path, remote_path):\n",
    "    if not file_path.is_file():\n",
    "        !wget $remote_path\n",
    "    return pd.read_csv(file_path)"
   ]
  },
  {
   "cell_type": "code",
   "execution_count": 84,
   "id": "23b9f618-e4c8-4cbb-bcfc-883cb1abcee8",
   "metadata": {},
   "outputs": [
    {
     "data": {
      "text/html": [
       "<div>\n",
       "<style scoped>\n",
       "    .dataframe tbody tr th:only-of-type {\n",
       "        vertical-align: middle;\n",
       "    }\n",
       "\n",
       "    .dataframe tbody tr th {\n",
       "        vertical-align: top;\n",
       "    }\n",
       "\n",
       "    .dataframe thead th {\n",
       "        text-align: right;\n",
       "    }\n",
       "</style>\n",
       "<table border=\"1\" class=\"dataframe\">\n",
       "  <thead>\n",
       "    <tr style=\"text-align: right;\">\n",
       "      <th></th>\n",
       "      <th>engine_displacement</th>\n",
       "      <th>horsepower</th>\n",
       "      <th>vehicle_weight</th>\n",
       "      <th>model_year</th>\n",
       "      <th>fuel_efficiency_mpg</th>\n",
       "    </tr>\n",
       "  </thead>\n",
       "  <tbody>\n",
       "    <tr>\n",
       "      <th>0</th>\n",
       "      <td>170</td>\n",
       "      <td>159.0</td>\n",
       "      <td>3413.433759</td>\n",
       "      <td>2003</td>\n",
       "      <td>13.231729</td>\n",
       "    </tr>\n",
       "    <tr>\n",
       "      <th>1</th>\n",
       "      <td>130</td>\n",
       "      <td>97.0</td>\n",
       "      <td>3149.664934</td>\n",
       "      <td>2007</td>\n",
       "      <td>13.688217</td>\n",
       "    </tr>\n",
       "    <tr>\n",
       "      <th>2</th>\n",
       "      <td>170</td>\n",
       "      <td>78.0</td>\n",
       "      <td>3079.038997</td>\n",
       "      <td>2018</td>\n",
       "      <td>14.246341</td>\n",
       "    </tr>\n",
       "    <tr>\n",
       "      <th>3</th>\n",
       "      <td>220</td>\n",
       "      <td>NaN</td>\n",
       "      <td>2542.392402</td>\n",
       "      <td>2009</td>\n",
       "      <td>16.912736</td>\n",
       "    </tr>\n",
       "    <tr>\n",
       "      <th>4</th>\n",
       "      <td>210</td>\n",
       "      <td>140.0</td>\n",
       "      <td>3460.870990</td>\n",
       "      <td>2009</td>\n",
       "      <td>12.488369</td>\n",
       "    </tr>\n",
       "  </tbody>\n",
       "</table>\n",
       "</div>"
      ],
      "text/plain": [
       "   engine_displacement  horsepower  vehicle_weight  model_year  \\\n",
       "0                  170       159.0     3413.433759        2003   \n",
       "1                  130        97.0     3149.664934        2007   \n",
       "2                  170        78.0     3079.038997        2018   \n",
       "3                  220         NaN     2542.392402        2009   \n",
       "4                  210       140.0     3460.870990        2009   \n",
       "\n",
       "   fuel_efficiency_mpg  \n",
       "0            13.231729  \n",
       "1            13.688217  \n",
       "2            14.246341  \n",
       "3            16.912736  \n",
       "4            12.488369  "
      ]
     },
     "execution_count": 84,
     "metadata": {},
     "output_type": "execute_result"
    }
   ],
   "source": [
    "file_path = Path('car_fuel_efficiency.csv')\n",
    "data = \"https://raw.githubusercontent.com/alexeygrigorev/datasets/master/car_fuel_efficiency.csv\"\n",
    "df = get_data(file_path, data)\n",
    "df = df[['engine_displacement', 'horsepower', 'vehicle_weight','model_year', 'fuel_efficiency_mpg' ]]\n",
    "df.head()\n"
   ]
  },
  {
   "cell_type": "markdown",
   "id": "aac5bde8-b53d-4794-9f9a-f19c511b31fa",
   "metadata": {},
   "source": [
    "## Exploratory Data Analysis¶"
   ]
  },
  {
   "cell_type": "code",
   "execution_count": 85,
   "id": "3bde08b8-1ddd-4c16-a762-14396be3decc",
   "metadata": {},
   "outputs": [
    {
     "data": {
      "text/plain": [
       "<Axes: xlabel='fuel_efficiency_mpg', ylabel='Count'>"
      ]
     },
     "execution_count": 85,
     "metadata": {},
     "output_type": "execute_result"
    },
    {
     "data": {
      "image/png": "[encoded data removed]",
      "text/plain": [
       "<Figure size 640x480 with 1 Axes>"
      ]
     },
     "metadata": {},
     "output_type": "display_data"
    }
   ],
   "source": [
    "sns.histplot(df.fuel_efficiency_mpg, bins= 100)"
   ]
  },
  {
   "cell_type": "code",
   "execution_count": 86,
   "id": "7d91413d-283d-40ee-ba3e-cc99a5fed021",
   "metadata": {},
   "outputs": [
    {
     "data": {
      "text/plain": [
       "engine_displacement      0\n",
       "horsepower             708\n",
       "vehicle_weight           0\n",
       "model_year               0\n",
       "fuel_efficiency_mpg      0\n",
       "dtype: int64"
      ]
     },
     "execution_count": 86,
     "metadata": {},
     "output_type": "execute_result"
    }
   ],
   "source": [
    "df.isnull().sum()"
   ]
  },
  {
   "cell_type": "code",
   "execution_count": 87,
   "id": "d3a8de80-a826-465e-9db4-902e5d85fa04",
   "metadata": {},
   "outputs": [
    {
     "name": "stdout",
     "output_type": "stream",
     "text": [
      "0.10    111.0\n",
      "0.25    130.0\n",
      "0.50    149.0\n",
      "0.75    170.0\n",
      "0.90    188.0\n",
      "Name: horsepower, dtype: float64\n"
     ]
    }
   ],
   "source": [
    "percentiles = df['horsepower'].quantile([0.1, 0.25, 0.5, 0.75, 0.9])\n",
    "print(percentiles)"
   ]
  },
  {
   "cell_type": "code",
   "execution_count": 88,
   "id": "4a0b8769-14aa-4cf8-8dc7-44cddb1aad10",
   "metadata": {},
   "outputs": [
    {
     "data": {
      "image/png": "[encoded data removed]",
      "text/plain": [
       "<Figure size 640x480 with 1 Axes>"
      ]
     },
     "metadata": {},
     "output_type": "display_data"
    }
   ],
   "source": [
    "df.boxplot(column='horsepower')\n",
    "plt.title('Box Plot showing Quartiles')\n",
    "plt.ylabel('Values')\n",
    "plt.show()"
   ]
  },
  {
   "cell_type": "markdown",
   "id": "8087c3e9-bacc-4b4e-9d3d-079d5578e45b",
   "metadata": {},
   "source": [
    "## Prepare and split the dataset"
   ]
  },
  {
   "cell_type": "code",
   "execution_count": 89,
   "id": "cdf038d6-3745-4b6b-bb81-06cdb2160b60",
   "metadata": {},
   "outputs": [],
   "source": [
    "def dot(x1,w):\n",
    "    return sum(xi * wi for xi, wi in zip(x1, w))"
   ]
  },
  {
   "cell_type": "code",
   "execution_count": 112,
   "id": "92358a66-3723-465f-a1f0-fe9537217aa7",
   "metadata": {},
   "outputs": [],
   "source": [
    "def train_linear_regression(X,Y):\n",
    "    ones = np.ones(X.shape[0])\n",
    "    X = np.column_stack([ones, X])  # NO .round() here!\n",
    "    \n",
    "    XTX = X.T.dot(X)\n",
    "    \n",
    "    # Add regularization for numerical stability\n",
    "    reg = 0.001\n",
    "    XTX = XTX + reg * np.eye(XTX.shape[0])\n",
    "    \n",
    "    # Use regular inverse (more stable than pinv in this case)\n",
    "    XTX_inv = np.linalg.inv(XTX)\n",
    "    w_full = XTX_inv.dot(X.T).dot(Y)\n",
    "    \n",
    "    return w_full[0], w_full[1:]"
   ]
  },
  {
   "cell_type": "code",
   "execution_count": 113,
   "id": "47d3bd1e-40d0-4cee-b0b9-56529f8e77fb",
   "metadata": {},
   "outputs": [],
   "source": [
    "def rmse(y, y_pred):\n",
    "    se = (y - y_pred) **2\n",
    "    mse = se.mean()\n",
    "    return np.sqrt(mse)"
   ]
  },
  {
   "cell_type": "code",
   "execution_count": 114,
   "id": "b43d2447-e250-435a-8874-6e40573d4987",
   "metadata": {},
   "outputs": [],
   "source": [
    "n = len(df)\n",
    "\n",
    "n_val = int(n * 0.2)\n",
    "n_test = int(n * 0.2)\n",
    "n_train = n - n_val - n_test\n",
    "\n",
    "idx = np.arange(n)\n",
    "np.random.seed(42)\n",
    "np.random.shuffle(idx)\n",
    "\n",
    "df_train = df.iloc[idx[:n_train]]\n",
    "df_val = df.iloc[idx[n_train:n_train+n_val]]\n",
    "df_test = df.iloc[idx[n_train+n_val:]]\n",
    "len(df_train), len(df_val), len(df_test)\n",
    "\n",
    "df_train = df_train.reset_index(drop=True)\n",
    "df_val = df_val.reset_index(drop=True)\n",
    "df_test = df_test.reset_index(drop=True)\n",
    "\n",
    "df_train_mean = df_train.copy()\n",
    "df_train_mean['horsepower'] = df_train_mean['horsepower'].fillna(\n",
    "    df_train_mean['horsepower'].median(numeric_only=True)\n",
    ")\n",
    "y_train_mean = np.log1p(df_train_mean.fuel_efficiency_mpg.values)\n",
    "\n",
    "df_train_zeros = df_train.copy()\n",
    "df_train_zeros['horsepower'] = df_train_zeros['horsepower'].fillna(0)\n",
    "y_train = np.log1p(df_train_zeros.fuel_efficiency_mpg.values)\n",
    "y_val = np.log1p(df_val.fuel_efficiency_mpg.values)\n",
    "y_test = np.log1p(df_test.fuel_efficiency_mpg.values)\n",
    "\n",
    "del df_train_zeros['fuel_efficiency_mpg']\n",
    "del df_val['fuel_efficiency_mpg']\n",
    "del df_test['fuel_efficiency_mpg']\n",
    "del df_train_mean['fuel_efficiency_mpg']"
   ]
  },
  {
   "cell_type": "code",
   "execution_count": 115,
   "id": "1257b9d2-3e8c-4035-846b-f79c9201c837",
   "metadata": {},
   "outputs": [],
   "source": [
    "X_train = df_train_zeros.values\n",
    "w0, w = train_linear_regression(X_train,y_train)\n",
    "y_pred = w0 + X_train.dot(w)\n",
    "rmse_zeros = rmse(y_train, y_pred)"
   ]
  },
  {
   "cell_type": "code",
   "execution_count": 116,
   "id": "7bef411f-08e4-49d0-be51-f0427d148b8b",
   "metadata": {},
   "outputs": [],
   "source": [
    "\n",
    "X_train_mean = df_train_mean.values\n",
    "w0, w = train_linear_regression(X_train_mean,y_train_mean)\n",
    "y_pred_mean = w0 + X_train_mean.dot(w)\n",
    "rmse_mean = rmse(y_train_mean, y_pred_mean)"
   ]
  },
  {
   "cell_type": "code",
   "execution_count": 117,
   "id": "152fe024-0ac1-4f17-a51e-b464fe712ef5",
   "metadata": {},
   "outputs": [
    {
     "name": "stdout",
     "output_type": "stream",
     "text": [
      "RMSE Mean: 0.035813022816366356\n",
      "RMSE ZEROS: 0.039086772858531973\n"
     ]
    }
   ],
   "source": [
    "print(f'RMSE Mean: {rmse_mean}')\n",
    "print(f'RMSE ZEROS: {rmse_zeros}')"
   ]
  },
  {
   "cell_type": "markdown",
   "id": "5cab9c30-0ad6-4239-b4ca-69f46c99501a",
   "metadata": {},
   "source": [
    "## Regularization"
   ]
  },
  {
   "cell_type": "code",
   "execution_count": 118,
   "id": "d79753d3-253b-431b-a896-4f650fccf3b4",
   "metadata": {},
   "outputs": [],
   "source": [
    "def train_linear_regression_reg(X, y, r=0.001):\n",
    "    ones = np.ones(X.shape[0])\n",
    "    X = np.column_stack([ones,X])\n",
    "\n",
    "    XTX = X.T.dot(X)\n",
    "    XTX = XTX + r*np.eye(XTX.shape[0])\n",
    "\n",
    "    XTX_inv = np.linalg.inv(XTX)\n",
    "    w_full = XTX_inv.dot(X.T).dot(y)\n",
    "\n",
    "    return w_full[0], w_full[1:]"
   ]
  },
  {
   "cell_type": "code",
   "execution_count": 119,
   "id": "8c6c9740-401a-4f5c-9b0c-7e06d738080e",
   "metadata": {},
   "outputs": [
    {
     "name": "stdout",
     "output_type": "stream",
     "text": [
      "0 3.6646662472218297 0.03915910132510417\n",
      "0.01 3.1688134470074534 0.03915544012795345\n",
      "0.1 1.4288369989383432 0.03968901439911248\n",
      "1 0.22012861946726972 0.04054510963213077\n",
      "5 0.04624885656570121 0.04069949625768189\n",
      "10 0.023271722731248758 0.040720468852610416\n",
      "100 0.0023413689852701753 0.040739692003913586\n"
     ]
    }
   ],
   "source": [
    "for r in [0, 0.01, 0.1, 1, 5, 10, 100]:\n",
    "    w0,w = train_linear_regression_reg(X_train, y_train, r=r)\n",
    "    X_val = df_val.copy()\n",
    "    y_pred = w0 + X_val.dot(w)\n",
    "    score = rmse(y_val, y_pred)\n",
    "    print( r, w0, score)"
   ]
  },
  {
   "cell_type": "code",
   "execution_count": 120,
   "id": "a4595926-6d04-486b-9334-f7872cbeecd2",
   "metadata": {},
   "outputs": [],
   "source": [
    "def rmse(y, y_pred):\n",
    "    se = (y - y_pred) ** 2\n",
    "    mse = se.mean()\n",
    "    return np.sqrt(mse)"
   ]
  },
  {
   "cell_type": "code",
   "execution_count": 122,
   "id": "1a4962bb-78e4-4bef-9294-4e5cb90f2b4b",
   "metadata": {},
   "outputs": [
    {
     "name": "stdout",
     "output_type": "stream",
     "text": [
      "Seed 0: RMSE = 0.038016\n",
      "Seed 1: RMSE = 0.039273\n",
      "Seed 2: RMSE = 0.039451\n",
      "Seed 3: RMSE = 0.038724\n",
      "Seed 4: RMSE = 0.037280\n",
      "Seed 5: RMSE = 0.039389\n",
      "Seed 6: RMSE = 0.038912\n",
      "Seed 7: RMSE = 0.038383\n",
      "Seed 8: RMSE = 0.040198\n",
      "Seed 9: RMSE = 0.038607\n",
      "\n",
      "All RMSE scores: [np.float64(0.038016), np.float64(0.039273), np.float64(0.039451), np.float64(0.038724), np.float64(0.03728), np.float64(0.039389), np.float64(0.038912), np.float64(0.038383), np.float64(0.040198), np.float64(0.038607)]\n",
      "Mean RMSE: 0.038823\n",
      "Standard deviation: 0.001\n"
     ]
    }
   ],
   "source": [
    "def train_linear_regression(X, Y):\n",
    "    ones = np.ones(X.shape[0])\n",
    "    X = np.column_stack([ones, X])  # NO .round() here!\n",
    "    \n",
    "    XTX = X.T.dot(X)\n",
    "    \n",
    "    # Add regularization for numerical stability\n",
    "    reg = 0.001\n",
    "    XTX = XTX + reg * np.eye(XTX.shape[0])\n",
    "    \n",
    "    # Use regular inverse (more stable than pinv in this case)\n",
    "    XTX_inv = np.linalg.inv(XTX)\n",
    "    w_full = XTX_inv.dot(X.T).dot(Y)\n",
    "    \n",
    "    return w_full[0], w_full[1:]\n",
    "\n",
    "def rmse(y, y_pred):\n",
    "    se = (y - y_pred) ** 2\n",
    "    mse = se.mean()\n",
    "    return np.sqrt(mse)\n",
    "\n",
    "# Prepare the data\n",
    "df_processed = df[['engine_displacement', 'horsepower', 'vehicle_weight', 'model_year', 'fuel_efficiency_mpg']].copy()\n",
    "df_processed['horsepower'] = df_processed['horsepower'].fillna(0)\n",
    "\n",
    "n = len(df_processed)\n",
    "n_val = int(n * 0.2)\n",
    "n_test = int(n * 0.2)\n",
    "n_train = n - n_val - n_test\n",
    "\n",
    "seeds = [0, 1, 2, 3, 4, 5, 6, 7, 8, 9]\n",
    "rmse_scores = []\n",
    "\n",
    "for seed in seeds:\n",
    "    # Shuffle with current seed\n",
    "    idx = np.arange(n)\n",
    "    np.random.seed(seed)\n",
    "    np.random.shuffle(idx)\n",
    "    \n",
    "    # Split data\n",
    "    df_train = df_processed.iloc[idx[:n_train]].copy().reset_index(drop=True)\n",
    "    df_val = df_processed.iloc[idx[n_train:n_train+n_val]].copy().reset_index(drop=True)\n",
    "    \n",
    "    # Prepare target variables\n",
    "    y_train = np.log1p(df_train['fuel_efficiency_mpg'].values)\n",
    "    y_val = np.log1p(df_val['fuel_efficiency_mpg'].values)\n",
    "    \n",
    "    # Prepare features\n",
    "    X_train = df_train.drop('fuel_efficiency_mpg', axis=1).values\n",
    "    X_val = df_val.drop('fuel_efficiency_mpg', axis=1).values\n",
    "    \n",
    "    # Train model\n",
    "    w0, w = train_linear_regression(X_train, y_train)\n",
    "    \n",
    "    # Predict on validation set\n",
    "    y_pred = w0 + X_val.dot(w)\n",
    "    \n",
    "    # Calculate RMSE\n",
    "    score = rmse(y_val, y_pred)\n",
    "    rmse_scores.append(score)\n",
    "    print(f\"Seed {seed}: RMSE = {score:.6f}\")\n",
    "\n",
    "# Calculate standard deviation\n",
    "std = np.std(rmse_scores)\n",
    "print(f\"\\nAll RMSE scores: {[round(s, 6) for s in rmse_scores]}\")\n",
    "print(f\"Mean RMSE: {np.mean(rmse_scores):.6f}\")\n",
    "print(f\"Standard deviation: {round(std, 3)}\")"
   ]
  },
  {
   "cell_type": "code",
   "execution_count": 126,
   "id": "3a6f457a-1ea5-4c0d-ae35-29af6aa7f27e",
   "metadata": {},
   "outputs": [
    {
     "name": "stdout",
     "output_type": "stream",
     "text": [
      "Training on: 7764 samples (train + validation combined)\n",
      "Testing on: 1940 samples\n",
      "\n",
      "RMSE on test dataset (log space): 0.039196\n",
      "RMSE on test dataset (original space): 0.607386\n",
      "\n",
      "Rounded to 3 decimals:\n",
      "  Log space: 0.039\n",
      "  Original space: 0.607\n"
     ]
    }
   ],
   "source": [
    "import numpy as np\n",
    "import pandas as pd\n",
    "\n",
    "def train_linear_regression_reg(X, Y, r=0.001):\n",
    "    ones = np.ones(X.shape[0])\n",
    "    X = np.column_stack([ones, X])\n",
    "    \n",
    "    XTX = X.T.dot(X)\n",
    "    XTX = XTX + r * np.eye(XTX.shape[0])\n",
    "    XTX_inv = np.linalg.inv(XTX)\n",
    "    w_full = XTX_inv.dot(X.T).dot(Y)\n",
    "    \n",
    "    return w_full[0], w_full[1:]\n",
    "\n",
    "def rmse(y, y_pred):\n",
    "    se = (y - y_pred) ** 2\n",
    "    mse = se.mean()\n",
    "    return np.sqrt(mse)\n",
    "\n",
    "# Prepare the data\n",
    "df_processed = df[['engine_displacement', 'horsepower', 'vehicle_weight', 'model_year', 'fuel_efficiency_mpg']].copy()\n",
    "df_processed['horsepower'] = df_processed['horsepower'].fillna(0)\n",
    "\n",
    "n = len(df_processed)\n",
    "n_val = int(n * 0.2)\n",
    "n_test = int(n * 0.2)\n",
    "n_train = n - n_val - n_test\n",
    "\n",
    "# Use seed 9\n",
    "seed = 9\n",
    "idx = np.arange(n)\n",
    "np.random.seed(seed)\n",
    "np.random.shuffle(idx)\n",
    "\n",
    "# Split data\n",
    "df_train = df_processed.iloc[idx[:n_train]].copy().reset_index(drop=True)\n",
    "df_val = df_processed.iloc[idx[n_train:n_train+n_val]].copy().reset_index(drop=True)\n",
    "df_test = df_processed.iloc[idx[n_train+n_val:]].copy().reset_index(drop=True)\n",
    "\n",
    "# Combine train and validation datasets\n",
    "df_train_val = pd.concat([df_train, df_val], ignore_index=True)\n",
    "\n",
    "# Prepare combined train+val data\n",
    "y_train_val = np.log1p(df_train_val['fuel_efficiency_mpg'].values)\n",
    "X_train_val = df_train_val.drop('fuel_efficiency_mpg', axis=1).values\n",
    "\n",
    "# Prepare test data\n",
    "y_test = np.log1p(df_test['fuel_efficiency_mpg'].values)\n",
    "X_test = df_test.drop('fuel_efficiency_mpg', axis=1).values\n",
    "\n",
    "# Train model with r=0.001\n",
    "w0, w = train_linear_regression_reg(X_train_val, y_train_val, r=0.001)\n",
    "\n",
    "# Predict on TEST set\n",
    "y_pred_log = w0 + X_test.dot(w)\n",
    "\n",
    "# Calculate RMSE in log space\n",
    "test_rmse_log = rmse(y_test, y_pred_log)\n",
    "\n",
    "# Calculate RMSE in original space (transform back)\n",
    "y_test_original = np.expm1(y_test)\n",
    "y_pred_original = np.expm1(y_pred_log)\n",
    "test_rmse_original = rmse(y_test_original, y_pred_original)\n",
    "\n",
    "print(f\"Training on: {len(df_train_val)} samples (train + validation combined)\")\n",
    "print(f\"Testing on: {len(df_test)} samples\")\n",
    "print(f\"\\nRMSE on test dataset (log space): {test_rmse_log:.6f}\")\n",
    "print(f\"RMSE on test dataset (original space): {test_rmse_original:.6f}\")\n",
    "print(f\"\\nRounded to 3 decimals:\")\n",
    "print(f\"  Log space: {round(test_rmse_log, 3)}\")\n",
    "print(f\"  Original space: {round(test_rmse_original, 3)}\")\n",
    "\n"
   ]
  },
  {
   "cell_type": "code",
   "execution_count": null,
   "id": "35b567c0-645b-4e5c-96a9-9d9c54e611ec",
   "metadata": {},
   "outputs": [],
   "source": []
  },
  {
   "cell_type": "code",
   "execution_count": null,
   "id": "ebbb21d2-065a-49b8-8643-c6373fdc9898",
   "metadata": {},
   "outputs": [],
   "source": []
  },
  {
   "cell_type": "code",
   "execution_count": null,
   "id": "4a30da7e-de7e-402e-b5e8-466c7726dbb5",
   "metadata": {},
   "outputs": [],
   "source": []
  },
  {
   "cell_type": "code",
   "execution_count": null,
   "id": "c14f4ea8-242b-4ed6-b773-9b0d0b152204",
   "metadata": {},
   "outputs": [],
   "source": []
  }
 ],
 "metadata": {
  "kernelspec": {
   "display_name": "Python 3 (ipykernel)",
   "language": "python",
   "name": "python3"
  },
  "language_info": {
   "codemirror_mode": {
    "name": "ipython",
    "version": 3
   },
   "file_extension": ".py",
   "mimetype": "text/x-python",
   "name": "python",
   "nbconvert_exporter": "python",
   "pygments_lexer": "ipython3",
   "version": "3.12.1"
  }
 },
 "nbformat": 4,
 "nbformat_minor": 5
}
