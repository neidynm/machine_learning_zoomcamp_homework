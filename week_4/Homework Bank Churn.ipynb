{
 "cells": [
  {
   "cell_type": "code",
   "execution_count": 37,
   "id": "742ff1f6-d5ec-4a65-983b-6bc1ff2a37c0",
   "metadata": {},
   "outputs": [],
   "source": [
    "import pandas as pd\n",
    "import numpy as np\n",
    "from sklearn.model_selection import train_test_split\n",
    "from sklearn.metrics import roc_auc_score"
   ]
  },
  {
   "cell_type": "markdown",
   "id": "0d79021f-040c-4773-8292-31c284512cbe",
   "metadata": {},
   "source": [
    "## Getting the data"
   ]
  },
  {
   "cell_type": "code",
   "execution_count": 39,
   "id": "4bd0e1c0-b81f-4e60-8027-9166328e08b9",
   "metadata": {},
   "outputs": [],
   "source": [
    "def get_data(file_path, dir_path, remote_path):\n",
    "    if file_path.exists():\n",
    "        print(f\"The path '{file_path}' exists.\")\n",
    "    else:\n",
    "        dir_path.mkdir(parents=True, exist_ok=True)\n",
    "        print(f\"Downloading data from {remote_path}...\")\n",
    "        urllib.request.urlretrieve(remote_path, file_path)\n",
    "    return pd.read_csv(file_path)"
   ]
  },
  {
   "cell_type": "code",
   "execution_count": 40,
   "id": "665d6e4c-a992-45ff-ac6b-dd6a1693b22d",
   "metadata": {},
   "outputs": [
    {
     "name": "stdout",
     "output_type": "stream",
     "text": [
      "The path 'data/course_lead_scoring.csv' exists.\n"
     ]
    },
    {
     "data": {
      "text/html": [
       "<div>\n",
       "<style scoped>\n",
       "    .dataframe tbody tr th:only-of-type {\n",
       "        vertical-align: middle;\n",
       "    }\n",
       "\n",
       "    .dataframe tbody tr th {\n",
       "        vertical-align: top;\n",
       "    }\n",
       "\n",
       "    .dataframe thead th {\n",
       "        text-align: right;\n",
       "    }\n",
       "</style>\n",
       "<table border=\"1\" class=\"dataframe\">\n",
       "  <thead>\n",
       "    <tr style=\"text-align: right;\">\n",
       "      <th></th>\n",
       "      <th>lead_source</th>\n",
       "      <th>industry</th>\n",
       "      <th>number_of_courses_viewed</th>\n",
       "      <th>annual_income</th>\n",
       "      <th>employment_status</th>\n",
       "      <th>location</th>\n",
       "      <th>interaction_count</th>\n",
       "      <th>lead_score</th>\n",
       "      <th>converted</th>\n",
       "    </tr>\n",
       "  </thead>\n",
       "  <tbody>\n",
       "    <tr>\n",
       "      <th>0</th>\n",
       "      <td>paid_ads</td>\n",
       "      <td>NaN</td>\n",
       "      <td>1</td>\n",
       "      <td>79450.0</td>\n",
       "      <td>unemployed</td>\n",
       "      <td>south_america</td>\n",
       "      <td>4</td>\n",
       "      <td>0.94</td>\n",
       "      <td>1</td>\n",
       "    </tr>\n",
       "    <tr>\n",
       "      <th>1</th>\n",
       "      <td>social_media</td>\n",
       "      <td>retail</td>\n",
       "      <td>1</td>\n",
       "      <td>46992.0</td>\n",
       "      <td>employed</td>\n",
       "      <td>south_america</td>\n",
       "      <td>1</td>\n",
       "      <td>0.80</td>\n",
       "      <td>0</td>\n",
       "    </tr>\n",
       "    <tr>\n",
       "      <th>2</th>\n",
       "      <td>events</td>\n",
       "      <td>healthcare</td>\n",
       "      <td>5</td>\n",
       "      <td>78796.0</td>\n",
       "      <td>unemployed</td>\n",
       "      <td>australia</td>\n",
       "      <td>3</td>\n",
       "      <td>0.69</td>\n",
       "      <td>1</td>\n",
       "    </tr>\n",
       "    <tr>\n",
       "      <th>3</th>\n",
       "      <td>paid_ads</td>\n",
       "      <td>retail</td>\n",
       "      <td>2</td>\n",
       "      <td>83843.0</td>\n",
       "      <td>NaN</td>\n",
       "      <td>australia</td>\n",
       "      <td>1</td>\n",
       "      <td>0.87</td>\n",
       "      <td>0</td>\n",
       "    </tr>\n",
       "    <tr>\n",
       "      <th>4</th>\n",
       "      <td>referral</td>\n",
       "      <td>education</td>\n",
       "      <td>3</td>\n",
       "      <td>85012.0</td>\n",
       "      <td>self_employed</td>\n",
       "      <td>europe</td>\n",
       "      <td>3</td>\n",
       "      <td>0.62</td>\n",
       "      <td>1</td>\n",
       "    </tr>\n",
       "  </tbody>\n",
       "</table>\n",
       "</div>"
      ],
      "text/plain": [
       "    lead_source    industry  number_of_courses_viewed  annual_income  \\\n",
       "0      paid_ads         NaN                         1        79450.0   \n",
       "1  social_media      retail                         1        46992.0   \n",
       "2        events  healthcare                         5        78796.0   \n",
       "3      paid_ads      retail                         2        83843.0   \n",
       "4      referral   education                         3        85012.0   \n",
       "\n",
       "  employment_status       location  interaction_count  lead_score  converted  \n",
       "0        unemployed  south_america                  4        0.94          1  \n",
       "1          employed  south_america                  1        0.80          0  \n",
       "2        unemployed      australia                  3        0.69          1  \n",
       "3               NaN      australia                  1        0.87          0  \n",
       "4     self_employed         europe                  3        0.62          1  "
      ]
     },
     "execution_count": 40,
     "metadata": {},
     "output_type": "execute_result"
    }
   ],
   "source": [
    "directory_path = Path('data')\n",
    "file_path = directory_path / 'course_lead_scoring.csv'\n",
    "data_url = \"https://raw.githubusercontent.com/alexeygrigorev/datasets/master/course_lead_scoring.csv\"\n",
    "\n",
    "df = get_data(file_path, directory_path, data_url)\n",
    "df.head()"
   ]
  },
  {
   "cell_type": "code",
   "execution_count": 41,
   "id": "2088beba-13ce-4fb2-a5da-3135b8b59adc",
   "metadata": {},
   "outputs": [
    {
     "data": {
      "text/html": [
       "<div>\n",
       "<style scoped>\n",
       "    .dataframe tbody tr th:only-of-type {\n",
       "        vertical-align: middle;\n",
       "    }\n",
       "\n",
       "    .dataframe tbody tr th {\n",
       "        vertical-align: top;\n",
       "    }\n",
       "\n",
       "    .dataframe thead th {\n",
       "        text-align: right;\n",
       "    }\n",
       "</style>\n",
       "<table border=\"1\" class=\"dataframe\">\n",
       "  <thead>\n",
       "    <tr style=\"text-align: right;\">\n",
       "      <th></th>\n",
       "      <th>0</th>\n",
       "      <th>1</th>\n",
       "      <th>2</th>\n",
       "      <th>3</th>\n",
       "      <th>4</th>\n",
       "    </tr>\n",
       "  </thead>\n",
       "  <tbody>\n",
       "    <tr>\n",
       "      <th>lead_source</th>\n",
       "      <td>paid_ads</td>\n",
       "      <td>social_media</td>\n",
       "      <td>events</td>\n",
       "      <td>paid_ads</td>\n",
       "      <td>referral</td>\n",
       "    </tr>\n",
       "    <tr>\n",
       "      <th>industry</th>\n",
       "      <td>NaN</td>\n",
       "      <td>retail</td>\n",
       "      <td>healthcare</td>\n",
       "      <td>retail</td>\n",
       "      <td>education</td>\n",
       "    </tr>\n",
       "    <tr>\n",
       "      <th>number_of_courses_viewed</th>\n",
       "      <td>1</td>\n",
       "      <td>1</td>\n",
       "      <td>5</td>\n",
       "      <td>2</td>\n",
       "      <td>3</td>\n",
       "    </tr>\n",
       "    <tr>\n",
       "      <th>annual_income</th>\n",
       "      <td>79450.0</td>\n",
       "      <td>46992.0</td>\n",
       "      <td>78796.0</td>\n",
       "      <td>83843.0</td>\n",
       "      <td>85012.0</td>\n",
       "    </tr>\n",
       "    <tr>\n",
       "      <th>employment_status</th>\n",
       "      <td>unemployed</td>\n",
       "      <td>employed</td>\n",
       "      <td>unemployed</td>\n",
       "      <td>NaN</td>\n",
       "      <td>self_employed</td>\n",
       "    </tr>\n",
       "    <tr>\n",
       "      <th>location</th>\n",
       "      <td>south_america</td>\n",
       "      <td>south_america</td>\n",
       "      <td>australia</td>\n",
       "      <td>australia</td>\n",
       "      <td>europe</td>\n",
       "    </tr>\n",
       "    <tr>\n",
       "      <th>interaction_count</th>\n",
       "      <td>4</td>\n",
       "      <td>1</td>\n",
       "      <td>3</td>\n",
       "      <td>1</td>\n",
       "      <td>3</td>\n",
       "    </tr>\n",
       "    <tr>\n",
       "      <th>lead_score</th>\n",
       "      <td>0.94</td>\n",
       "      <td>0.8</td>\n",
       "      <td>0.69</td>\n",
       "      <td>0.87</td>\n",
       "      <td>0.62</td>\n",
       "    </tr>\n",
       "    <tr>\n",
       "      <th>converted</th>\n",
       "      <td>1</td>\n",
       "      <td>0</td>\n",
       "      <td>1</td>\n",
       "      <td>0</td>\n",
       "      <td>1</td>\n",
       "    </tr>\n",
       "  </tbody>\n",
       "</table>\n",
       "</div>"
      ],
      "text/plain": [
       "                                      0              1           2          3  \\\n",
       "lead_source                    paid_ads   social_media      events   paid_ads   \n",
       "industry                            NaN         retail  healthcare     retail   \n",
       "number_of_courses_viewed              1              1           5          2   \n",
       "annual_income                   79450.0        46992.0     78796.0    83843.0   \n",
       "employment_status            unemployed       employed  unemployed        NaN   \n",
       "location                  south_america  south_america   australia  australia   \n",
       "interaction_count                     4              1           3          1   \n",
       "lead_score                         0.94            0.8        0.69       0.87   \n",
       "converted                             1              0           1          0   \n",
       "\n",
       "                                      4  \n",
       "lead_source                    referral  \n",
       "industry                      education  \n",
       "number_of_courses_viewed              3  \n",
       "annual_income                   85012.0  \n",
       "employment_status         self_employed  \n",
       "location                         europe  \n",
       "interaction_count                     3  \n",
       "lead_score                         0.62  \n",
       "converted                             1  "
      ]
     },
     "execution_count": 41,
     "metadata": {},
     "output_type": "execute_result"
    }
   ],
   "source": [
    "df.head().T"
   ]
  },
  {
   "cell_type": "markdown",
   "id": "a0d34b14-70ee-49c3-8d74-848f1e44ca8c",
   "metadata": {},
   "source": [
    "## Data preparation"
   ]
  },
  {
   "cell_type": "code",
   "execution_count": 43,
   "id": "a7946dcb-3259-4414-887c-02383db6adb7",
   "metadata": {},
   "outputs": [],
   "source": [
    "categorical = list(df.dtypes[df.dtypes == 'object'].index)\n",
    "numerical = ['number_of_courses_viewed', 'annual_income', 'interaction_count', 'lead_score']"
   ]
  },
  {
   "cell_type": "code",
   "execution_count": 44,
   "id": "5f02b619-d39f-4c60-99eb-fbcbc1e9cc06",
   "metadata": {},
   "outputs": [],
   "source": [
    "df[categorical] = df[categorical].fillna('NA')\n",
    "df[numerical] = df[numerical].fillna(0)"
   ]
  },
  {
   "cell_type": "code",
   "execution_count": 45,
   "id": "86e90bea-2a68-4216-b998-a339bdd50a83",
   "metadata": {},
   "outputs": [
    {
     "data": {
      "text/html": [
       "<div>\n",
       "<style scoped>\n",
       "    .dataframe tbody tr th:only-of-type {\n",
       "        vertical-align: middle;\n",
       "    }\n",
       "\n",
       "    .dataframe tbody tr th {\n",
       "        vertical-align: top;\n",
       "    }\n",
       "\n",
       "    .dataframe thead th {\n",
       "        text-align: right;\n",
       "    }\n",
       "</style>\n",
       "<table border=\"1\" class=\"dataframe\">\n",
       "  <thead>\n",
       "    <tr style=\"text-align: right;\">\n",
       "      <th></th>\n",
       "      <th>0</th>\n",
       "      <th>1</th>\n",
       "      <th>2</th>\n",
       "      <th>3</th>\n",
       "      <th>4</th>\n",
       "    </tr>\n",
       "  </thead>\n",
       "  <tbody>\n",
       "    <tr>\n",
       "      <th>lead_source</th>\n",
       "      <td>paid_ads</td>\n",
       "      <td>social_media</td>\n",
       "      <td>events</td>\n",
       "      <td>paid_ads</td>\n",
       "      <td>referral</td>\n",
       "    </tr>\n",
       "    <tr>\n",
       "      <th>industry</th>\n",
       "      <td>NA</td>\n",
       "      <td>retail</td>\n",
       "      <td>healthcare</td>\n",
       "      <td>retail</td>\n",
       "      <td>education</td>\n",
       "    </tr>\n",
       "    <tr>\n",
       "      <th>number_of_courses_viewed</th>\n",
       "      <td>1</td>\n",
       "      <td>1</td>\n",
       "      <td>5</td>\n",
       "      <td>2</td>\n",
       "      <td>3</td>\n",
       "    </tr>\n",
       "    <tr>\n",
       "      <th>annual_income</th>\n",
       "      <td>79450.0</td>\n",
       "      <td>46992.0</td>\n",
       "      <td>78796.0</td>\n",
       "      <td>83843.0</td>\n",
       "      <td>85012.0</td>\n",
       "    </tr>\n",
       "    <tr>\n",
       "      <th>employment_status</th>\n",
       "      <td>unemployed</td>\n",
       "      <td>employed</td>\n",
       "      <td>unemployed</td>\n",
       "      <td>NA</td>\n",
       "      <td>self_employed</td>\n",
       "    </tr>\n",
       "    <tr>\n",
       "      <th>location</th>\n",
       "      <td>south_america</td>\n",
       "      <td>south_america</td>\n",
       "      <td>australia</td>\n",
       "      <td>australia</td>\n",
       "      <td>europe</td>\n",
       "    </tr>\n",
       "    <tr>\n",
       "      <th>interaction_count</th>\n",
       "      <td>4</td>\n",
       "      <td>1</td>\n",
       "      <td>3</td>\n",
       "      <td>1</td>\n",
       "      <td>3</td>\n",
       "    </tr>\n",
       "    <tr>\n",
       "      <th>lead_score</th>\n",
       "      <td>0.94</td>\n",
       "      <td>0.8</td>\n",
       "      <td>0.69</td>\n",
       "      <td>0.87</td>\n",
       "      <td>0.62</td>\n",
       "    </tr>\n",
       "    <tr>\n",
       "      <th>converted</th>\n",
       "      <td>1</td>\n",
       "      <td>0</td>\n",
       "      <td>1</td>\n",
       "      <td>0</td>\n",
       "      <td>1</td>\n",
       "    </tr>\n",
       "  </tbody>\n",
       "</table>\n",
       "</div>"
      ],
      "text/plain": [
       "                                      0              1           2          3  \\\n",
       "lead_source                    paid_ads   social_media      events   paid_ads   \n",
       "industry                             NA         retail  healthcare     retail   \n",
       "number_of_courses_viewed              1              1           5          2   \n",
       "annual_income                   79450.0        46992.0     78796.0    83843.0   \n",
       "employment_status            unemployed       employed  unemployed         NA   \n",
       "location                  south_america  south_america   australia  australia   \n",
       "interaction_count                     4              1           3          1   \n",
       "lead_score                         0.94            0.8        0.69       0.87   \n",
       "converted                             1              0           1          0   \n",
       "\n",
       "                                      4  \n",
       "lead_source                    referral  \n",
       "industry                      education  \n",
       "number_of_courses_viewed              3  \n",
       "annual_income                   85012.0  \n",
       "employment_status         self_employed  \n",
       "location                         europe  \n",
       "interaction_count                     3  \n",
       "lead_score                         0.62  \n",
       "converted                             1  "
      ]
     },
     "execution_count": 45,
     "metadata": {},
     "output_type": "execute_result"
    }
   ],
   "source": [
    "df.head().T"
   ]
  },
  {
   "cell_type": "code",
   "execution_count": 46,
   "id": "ea3978c7-f6cc-4e49-90ac-8ac760c0e874",
   "metadata": {},
   "outputs": [],
   "source": [
    "## Split the data"
   ]
  },
  {
   "cell_type": "code",
   "execution_count": 47,
   "id": "4716729b-a1bd-4b54-b344-0a25e0f82985",
   "metadata": {},
   "outputs": [
    {
     "data": {
      "text/plain": [
       "lead_source          0.024562\n",
       "employment_status    0.012690\n",
       "industry             0.008173\n",
       "location             0.001212\n",
       "dtype: float64"
      ]
     },
     "execution_count": 47,
     "metadata": {},
     "output_type": "execute_result"
    }
   ],
   "source": [
    "\n",
    "df_full_train, df_test = train_test_split(df, test_size=0.2,random_state=1)\n",
    "df_train, df_val = train_test_split(df_full_train, test_size=0.25,random_state=1)\n",
    "\n",
    "df_train = df_train.reset_index(drop=True)\n",
    "df_val = df_val.reset_index(drop=True)\n",
    "df_test = df_test.reset_index(drop=True)\n",
    "\n",
    "y_train = df_train.converted.values\n",
    "y_val = df_val.converted.values\n",
    "y_test= df_test.converted.values\n",
    "\n",
    "del df_train['converted']\n",
    "del df_val['converted']\n",
    "del df_test['converted']\n",
    "\n",
    "df_full_train = df_full_train.reset_index(drop=True)\n",
    "df_full_train.converted.value_counts(normalize=True)\n",
    "\n",
    "\n",
    "def mutual_info_score_converted_score(series):\n",
    "    return mutual_info_score(series, df_full_train.converted )\n",
    "\n",
    "mi = df_full_train[categorical].apply(mutual_info_score_converted_score)\n",
    "\n",
    "mi.sort_values(ascending=False)"
   ]
  },
  {
   "cell_type": "code",
   "execution_count": 48,
   "id": "84691a64-1129-42ca-a82f-baca6a757d24",
   "metadata": {},
   "outputs": [
    {
     "name": "stdout",
     "output_type": "stream",
     "text": [
      "Accuracy: 0.70\n"
     ]
    }
   ],
   "source": [
    "# Training set \n",
    "train_dicts = df_train[categorical + numerical].to_dict(orient='records')\n",
    "dv = DictVectorizer(sparse=False)\n",
    "x_train = dv.fit_transform(train_dicts)\n",
    "\n",
    "# Validation set \n",
    "val_dicts = df_val[categorical + numerical].to_dict(orient='records')\n",
    "x_val = dv.transform(val_dicts)\n",
    "\n",
    "# Train the model\n",
    "model = LogisticRegression(solver='liblinear', C=1.0, max_iter=1000, random_state=1)\n",
    "model.fit(x_train, y_train)\n",
    "\n",
    "# Calculate predictions and accuracy\n",
    "y_pred = model.predict_proba(x_val)[:, 1]\n",
    "churn_decision = (y_pred >= 0.5)\n",
    "accuracy = (y_val == churn_decision).mean()\n",
    "\n",
    "print(f\"Accuracy: {accuracy:.2f}\")"
   ]
  },
  {
   "cell_type": "code",
   "execution_count": 49,
   "id": "0a496a62-362d-4f5f-9004-f2abc5e0b87f",
   "metadata": {},
   "outputs": [],
   "source": [
    "def train_and_evaluate(features_to_use):\n",
    "    # Prepare training data\n",
    "    train_dicts = df_train[features_to_use].to_dict(orient='records')\n",
    "    dv = DictVectorizer(sparse=False)\n",
    "    X_train = dv.fit_transform(train_dicts)\n",
    "    \n",
    "    # Prepare validation data\n",
    "    val_dicts = df_val[features_to_use].to_dict(orient='records')\n",
    "    X_val = dv.transform(val_dicts)\n",
    "    \n",
    "    # Train model\n",
    "    model = LogisticRegression(solver='liblinear', C=1.0, max_iter=1000, random_state=1)\n",
    "    model.fit(X_train, y_train)\n",
    "    \n",
    "    # Calculate accuracy\n",
    "    y_pred = model.predict_proba(X_val)[:, 1]\n",
    "    predictions = (y_pred >= 0.5).astype(int)\n",
    "    accuracy = (y_val == predictions).mean()\n",
    "    \n",
    "    return accuracy"
   ]
  },
  {
   "cell_type": "code",
   "execution_count": 50,
   "id": "1c137831-c339-46e7-9162-8e80095b3d26",
   "metadata": {},
   "outputs": [
    {
     "name": "stdout",
     "output_type": "stream",
     "text": [
      "Training baseline model with all features...\n",
      "Baseline accuracy (all features): 0.699659\n",
      "\n"
     ]
    }
   ],
   "source": [
    "# Train baseline model with all features\n",
    "print(\"Training baseline model with all features...\")\n",
    "baseline_accuracy = train_and_evaluate( categorical + numerical)\n",
    "print(f\"Baseline accuracy (all features): {baseline_accuracy:.6f}\\n\")"
   ]
  },
  {
   "cell_type": "code",
   "execution_count": 51,
   "id": "02e0fcb1-e4e1-40af-8797-ae0dee26033a",
   "metadata": {},
   "outputs": [
    {
     "name": "stdout",
     "output_type": "stream",
     "text": [
      "                 feature  accuracy_without  difference\n",
      "           annual_income          0.846416   -0.146758\n",
      "             lead_source          0.703072   -0.003413\n",
      "       employment_status          0.703072   -0.003413\n",
      "                industry          0.699659    0.000000\n",
      "                location          0.699659    0.000000\n",
      "              lead_score          0.699659    0.000000\n",
      "       interaction_count          0.587031    0.112628\n",
      "number_of_courses_viewed          0.583618    0.116041\n",
      "\n",
      "\n",
      "\n",
      "Least useful feature (smallest absolute difference):\n",
      "\n",
      "feature             industry\n",
      "accuracy_without    0.699659\n",
      "difference               0.0\n",
      "Name: 1, dtype: object\n",
      "\n",
      "Feature name: industry\n",
      "Difference: 0.0\n"
     ]
    }
   ],
   "source": [
    "results = []\n",
    "for feature_to_remove in (categorical + numerical):\n",
    "    # Create feature list without current feature\n",
    "    features_subset = [f for f in (categorical + numerical) if f != feature_to_remove]\n",
    "    \n",
    "    # Train model without this feature\n",
    "    accuracy_without = train_and_evaluate(features_subset)\n",
    "    \n",
    "    # Calculate difference (baseline - without_feature)\n",
    "    # Positive difference means the feature is useful (accuracy drops without it)\n",
    "    # Negative difference means the feature is harmful (accuracy improves without it)\n",
    "    difference = baseline_accuracy - accuracy_without\n",
    "    \n",
    "    results.append({\n",
    "        'feature': feature_to_remove,\n",
    "        'accuracy_without': accuracy_without,\n",
    "        'difference': difference\n",
    "    })\n",
    "results_df = pd.DataFrame(results)\n",
    "results_df = results_df.sort_values('difference', ascending=True)\n",
    "print(results_df.to_string(index=False))\n",
    "print()\n",
    "print()\n",
    "print()\n",
    "least_useful_feature = results_df.loc[results_df['difference'].abs().idxmin()]\n",
    "print(\"Least useful feature (smallest absolute difference):\")\n",
    "print()\n",
    "print(least_useful_feature)\n",
    "print(f\"\\nFeature name: {least_useful_feature['feature']}\")\n",
    "print(f\"Difference: {least_useful_feature['difference']}\")"
   ]
  },
  {
   "cell_type": "code",
   "execution_count": 52,
   "id": "b96ef732-78a3-4c5b-8856-182edc999e1f",
   "metadata": {},
   "outputs": [],
   "source": [
    "def accuracy_training (c_value):  \n",
    "    # Training set \n",
    "    train_dicts = df_train[categorical + numerical].to_dict(orient='records')\n",
    "    dv = DictVectorizer(sparse=False)\n",
    "    x_train = dv.fit_transform(train_dicts)\n",
    "    \n",
    "    # Validation set \n",
    "    val_dicts = df_val[categorical + numerical].to_dict(orient='records')\n",
    "    x_val = dv.transform(val_dicts)\n",
    "    \n",
    "    # Train the model\n",
    "    model = LogisticRegression(solver='liblinear', C=c_value, max_iter=1000, random_state=1)\n",
    "    model.fit(x_train, y_train)\n",
    "    \n",
    "    # Calculate predictions and accuracy\n",
    "    y_pred = model.predict_proba(x_val)[:, 1]\n",
    "    churn_decision = (y_pred >= 0.5)\n",
    "    accuracy = (y_val == churn_decision).mean()\n",
    "\n",
    "    return {\n",
    "        'c_value': c_value,\n",
    "        'accuracy': round(accuracy,3)\n",
    "    }"
   ]
  },
  {
   "cell_type": "code",
   "execution_count": 53,
   "id": "546a9b61-6fd9-461b-9bb0-24b141a725dd",
   "metadata": {},
   "outputs": [],
   "source": [
    "accuracy_results = []\n",
    "\n",
    "c_value_list = [0.01, 0.1, 1, 10, 100]\n",
    "for c in c_value_list:\n",
    "    result = accuracy_training(c)\n",
    "    accuracy_results.append(result)"
   ]
  },
  {
   "cell_type": "code",
   "execution_count": 54,
   "id": "a2596479-8ec4-492b-af88-11f6f9412427",
   "metadata": {},
   "outputs": [
    {
     "name": "stdout",
     "output_type": "stream",
     "text": [
      "\n",
      "========================================\n",
      "Results sorted by accuracy (best first):\n",
      " c_value  accuracy\n",
      "    0.01       0.7\n",
      "    0.10       0.7\n",
      "    1.00       0.7\n",
      "   10.00       0.7\n",
      "  100.00       0.7\n"
     ]
    }
   ],
   "source": [
    "accuracy_results_df = pd.DataFrame(accuracy_results)\n",
    "\n",
    "accuracy_results_df = accuracy_results_df.sort_values(\n",
    "    by=['accuracy', 'c_value'], \n",
    "    ascending=[False, True]\n",
    ")\n",
    "print(\"\\n\" + \"=\" * 40)\n",
    "print(\"Results sorted by accuracy (best first):\")\n",
    "print(accuracy_results_df.to_string(index=False))"
   ]
  },
  {
   "cell_type": "code",
   "execution_count": 73,
   "id": "d6bf93bd-b22d-4873-be90-3bc1424141c7",
   "metadata": {},
   "outputs": [
    {
     "name": "stdout",
     "output_type": "stream",
     "text": [
      "Question 1: ROC AUC Feature Importance\n",
      "==================================================\n",
      "number_of_courses_viewed      : 0.763568\n",
      "annual_income                 : 0.551958\n",
      "interaction_count             : 0.738270\n",
      "lead_score                    : 0.614499\n",
      "==================================================\n",
      "\n",
      "Highest AUC: number_of_courses_viewed\n",
      "AUC Score: 0.763568\n"
     ]
    }
   ],
   "source": [
    "# Question 1: Calculate ROC AUC for each numerical variable\n",
    "print(\"Question 1: ROC AUC Feature Importance\")\n",
    "print(\"=\" * 50)\n",
    "\n",
    "auc_scores = {}\n",
    "\n",
    "for feature in numerical:\n",
    "    # Use the feature values as prediction scores\n",
    "    predictions = df_train[feature].values\n",
    "    \n",
    "    # Calculate AUC\n",
    "    auc = roc_auc_score(y_train, predictions)\n",
    "    \n",
    "    # If AUC < 0.5, invert the variable\n",
    "    if auc < 0.5:\n",
    "        auc = roc_auc_score(y_train, -predictions)\n",
    "        print(f\"{feature:30s}: {auc:.6f} (inverted)\")\n",
    "    else:\n",
    "        print(f\"{feature:30s}: {auc:.6f}\")\n",
    "    \n",
    "    auc_scores[feature] = auc\n",
    "\n",
    "print(\"=\" * 50)\n",
    "\n",
    "# Find the feature with highest AUC\n",
    "best_feature = max(auc_scores, key=auc_scores.get)\n",
    "best_auc = auc_scores[best_feature]\n",
    "\n",
    "print(f\"\\nHighest AUC: {best_feature}\")\n",
    "print(f\"AUC Score: {best_auc:.6f}\")"
   ]
  },
  {
   "cell_type": "code",
   "execution_count": 88,
   "id": "e3e645aa-4a9c-4d2d-beab-6003bd7c9eb1",
   "metadata": {},
   "outputs": [],
   "source": [
    "from sklearn.feature_extraction import DictVectorizer\n",
    "from sklearn.linear_model import LogisticRegression\n",
    "from sklearn.metrics import roc_auc_score"
   ]
  },
  {
   "cell_type": "code",
   "execution_count": 90,
   "id": "b1240c2a-c106-4c97-b225-d5b25916e139",
   "metadata": {},
   "outputs": [
    {
     "name": "stdout",
     "output_type": "stream",
     "text": [
      "\n",
      "Model ROC AUC Score: 0.82\n"
     ]
    }
   ],
   "source": [
    "# Train the model\n",
    "model = LogisticRegression(solver='liblinear', C=1.0, max_iter=1000, random_state=1)\n",
    "model.fit(x_train, y_train)\n",
    "\n",
    "# Get predictions (probabilities)\n",
    "y_pred_proba = model.predict_proba(x_val)[:, 1]\n",
    "\n",
    "# Calculate ROC AUC\n",
    "model_auc = roc_auc_score(y_val, y_pred_proba)\n",
    "\n",
    "print(f\"\\nModel ROC AUC Score: {model_auc:.2f}\")"
   ]
  },
  {
   "cell_type": "code",
   "execution_count": 93,
   "id": "2643e763-bb09-488a-b547-222e3d1f9452",
   "metadata": {},
   "outputs": [
    {
     "name": "stdout",
     "output_type": "stream",
     "text": [
      "Model Accuracy: 0.70\n"
     ]
    }
   ],
   "source": [
    "y_pred = (y_pred_proba >= 0.5).astype(int)\n",
    "accuracy = (y_val == y_pred).mean()\n",
    "print(f\"Model Accuracy: {accuracy:.2f}\")"
   ]
  },
  {
   "cell_type": "code",
   "execution_count": 117,
   "id": "c18a3cd3-ada6-4a8f-8d74-86f256c12683",
   "metadata": {},
   "outputs": [],
   "source": [
    "actual_positive =(y_val == 1)\n",
    "actual_negative =(y_val == 0)\n",
    "\n",
    "t = 0.5\n",
    "predict_pos = (y_pred >= t)\n",
    "predict_neg = (y_pred < t)\n",
    "\n",
    "tp = (predict_pos & actual_positive).sum()\n",
    "tn = (predict_neg & actual_negative).sum()\n",
    "\n",
    "fp = (predict_pos & actual_negative).sum()\n",
    "fn = (predict_neg & actual_positive).sum()"
   ]
  },
  {
   "cell_type": "code",
   "execution_count": 119,
   "id": "f150f506-96c4-46b4-bebc-9fd7afed3f0b",
   "metadata": {},
   "outputs": [
    {
     "data": {
      "text/plain": [
       "0.6693877551020408"
      ]
     },
     "execution_count": 119,
     "metadata": {},
     "output_type": "execute_result"
    }
   ],
   "source": [
    "precision = tp/ (tp + fp)\n",
    "precision"
   ]
  },
  {
   "cell_type": "code",
   "execution_count": 123,
   "id": "f594251a-cd4d-4a54-9f63-c03344dd51a8",
   "metadata": {},
   "outputs": [
    {
     "data": {
      "text/plain": [
       "0.9590643274853801"
      ]
     },
     "execution_count": 123,
     "metadata": {},
     "output_type": "execute_result"
    }
   ],
   "source": [
    "recall = tp / (tp + fn)\n",
    "recall"
   ]
  },
  {
   "cell_type": "code",
   "execution_count": 127,
   "id": "f62d56bd-b47a-48b4-a49b-d883c0dd2296",
   "metadata": {},
   "outputs": [],
   "source": [
    "from sklearn.metrics import roc_curve\n",
    "fpr, tpr, threasholds = roc_curve(y_val, y_pred)"
   ]
  },
  {
   "cell_type": "code",
   "execution_count": 137,
   "id": "0373f555-05bf-44a1-840e-024c9022ab89",
   "metadata": {},
   "outputs": [
    {
     "data": {
      "text/plain": [
       "Text(0, 0.5, 'TPR')"
      ]
     },
     "execution_count": 137,
     "metadata": {},
     "output_type": "execute_result"
    },
    {
     "data": {
      "image/png": "[encoded data removed]",
      "text/plain": [
       "<Figure size 600x600 with 1 Axes>"
      ]
     },
     "metadata": {},
     "output_type": "display_data"
    }
   ],
   "source": [
    "plt.figure(figsize = (6,6))\n",
    "plt.plot(fpr, tpr, label = 'Model')\n",
    "plt.plot([0,1], [0,1], label = 'Random',  linestyle = '--')\n",
    "plt.xlabel('FPR')\n",
    "plt.ylabel('TPR')"
   ]
  },
  {
   "cell_type": "code",
   "execution_count": 139,
   "id": "54140de0-70a1-4146-9be4-bff5e3b51d86",
   "metadata": {},
   "outputs": [
    {
     "data": {
      "text/plain": [
       "0.647564950627936"
      ]
     },
     "execution_count": 139,
     "metadata": {},
     "output_type": "execute_result"
    }
   ],
   "source": [
    "from sklearn.metrics import auc\n",
    "auc(fpr, tpr)"
   ]
  },
  {
   "cell_type": "code",
   "execution_count": 143,
   "id": "7288144a-dc86-4110-b512-c3b46893fd7f",
   "metadata": {},
   "outputs": [
    {
     "data": {
      "text/plain": [
       "(0.0, 1.0)"
      ]
     },
     "execution_count": 143,
     "metadata": {},
     "output_type": "execute_result"
    },
    {
     "data": {
      "image/png": "[encoded data removed]",
      "text/plain": [
       "<Figure size 1000x600 with 1 Axes>"
      ]
     },
     "metadata": {},
     "output_type": "display_data"
    }
   ],
   "source": [
    "# Create thresholds from 0.0 to 1.0 with step 0.01\n",
    "thresholds = np.arange(0.0, 1.01, 0.01)\n",
    "\n",
    "precisions = []\n",
    "recalls = []\n",
    "\n",
    "# Calculate precision and recall for each threshold\n",
    "for t in thresholds:\n",
    "    # Convert probabilities to binary predictions using threshold\n",
    "    y_pred = (y_pred_proba >= t).astype(int)\n",
    "    \n",
    "    # Calculate confusion matrix elements\n",
    "    actual_positive = (y_val == 1)\n",
    "    actual_negative = (y_val == 0)\n",
    "    predict_pos = (y_pred == 1)\n",
    "    predict_neg = (y_pred == 0)\n",
    "    \n",
    "    tp = (predict_pos & actual_positive).sum()\n",
    "    fp = (predict_pos & actual_negative).sum()\n",
    "    fn = (predict_neg & actual_positive).sum()\n",
    "    \n",
    "    # Calculate precision and recall\n",
    "    if (tp + fp) > 0:\n",
    "        precision = tp / (tp + fp)\n",
    "    else:\n",
    "        precision = 0\n",
    "    \n",
    "    if (tp + fn) > 0:\n",
    "        recall = tp / (tp + fn)\n",
    "    else:\n",
    "        recall = 0\n",
    "    \n",
    "    precisions.append(precision)\n",
    "    recalls.append(recall)\n",
    "\n",
    "# Convert to numpy arrays\n",
    "precisions = np.array(precisions)\n",
    "recalls = np.array(recalls)\n",
    "\n",
    "# Plot precision and recall curves\n",
    "plt.figure(figsize=(10, 6))\n",
    "plt.plot(thresholds, precisions, label='Precision', linewidth=2, color='blue')\n",
    "plt.plot(thresholds, recalls, label='Recall', linewidth=2, color='red')\n",
    "plt.xlabel('Threshold', fontsize=12)\n",
    "plt.ylabel('Score', fontsize=12)\n",
    "plt.title('Precision and Recall vs Threshold', fontsize=14)\n",
    "plt.legend(fontsize=11)\n",
    "plt.grid(True, alpha=0.3)\n",
    "plt.xlim([0, 1])\n",
    "plt.ylim([0, 1])"
   ]
  },
  {
   "cell_type": "code",
   "execution_count": 151,
   "id": "4d27637b-22c8-45e3-9239-3acc8521b7ef",
   "metadata": {},
   "outputs": [
    {
     "name": "stdout",
     "output_type": "stream",
     "text": [
      "Best F1 Score: 0.8125\n",
      "At threshold: 0.570\n",
      "\n",
      "Given options and their closest match:\n",
      "  0.14: difference = 0.6725\n",
      "  0.34: difference = 0.4725\n",
      "  0.54: difference = 0.2725\n",
      "  0.74: difference = 0.0725\n",
      "\n",
      "Closest option: 0.74\n"
     ]
    },
    {
     "data": {
      "image/png": "[encoded data removed]",
      "text/plain": [
       "<Figure size 1000x600 with 1 Axes>"
      ]
     },
     "metadata": {},
     "output_type": "display_data"
    },
    {
     "name": "stdout",
     "output_type": "stream",
     "text": [
      "\n",
      "============================================================\n",
      "Question 5: 5-Fold Cross-Validation Standard Deviation\n",
      "============================================================\n",
      "5-Fold CV ROC AUC Scores: [0.80607459 0.87137384 0.77543201 0.80183686 0.85582727]\n",
      "Mean: 0.8221\n",
      "Standard Deviation: 0.0358\n",
      "\n",
      "Given options and their difference from calculated std:\n",
      "  0.0001: difference = 0.035707\n",
      "  0.006: difference = 0.029807\n",
      "  0.06: difference = 0.024193\n",
      "  0.36: difference = 0.324193\n",
      "\n",
      "Closest option: 0.06\n",
      "\n",
      "============================================================\n",
      "Question 6: Best C Parameter\n",
      "============================================================\n",
      "C=  0.000001 | Mean ROC AUC: 0.5602 | Std: 0.0238\n",
      "C=  0.001000 | Mean ROC AUC: 0.8669 | Std: 0.0287\n",
      "C=  0.010000 | Mean ROC AUC: 0.8313 | Std: 0.0343\n",
      "C=  0.100000 | Mean ROC AUC: 0.8230 | Std: 0.0354\n",
      "C=  1.000000 | Mean ROC AUC: 0.8221 | Std: 0.0358\n",
      "C= 10.000000 | Mean ROC AUC: 0.8220 | Std: 0.0358\n",
      "C=100.000000 | Mean ROC AUC: 0.8220 | Std: 0.0358\n",
      "\n",
      "Best C: 0.001\n",
      "Best mean ROC AUC: 0.8669\n",
      "\n",
      "Scores for given options:\n",
      "  C=1e-06: ROC AUC = 0.5602\n",
      "  C=0.001: ROC AUC = 0.8669\n",
      "  C=1: ROC AUC = 0.8221\n",
      "\n",
      "============================================================\n",
      "SUMMARY OF ANSWERS\n",
      "============================================================\n",
      "Question 4 (F1 Score): 0.74\n",
      "Question 5 (5-Fold CV Std): 0.06\n",
      "Question 6 (Best C): 0.001\n",
      "============================================================\n"
     ]
    }
   ],
   "source": [
    "\n",
    "import numpy as np\n",
    "import pandas as pd\n",
    "from sklearn.model_selection import cross_val_score, KFold\n",
    "from sklearn.linear_model import LogisticRegression\n",
    "from sklearn.feature_extraction import DictVectorizer\n",
    "from sklearn.metrics import f1_score\n",
    "# Calculate F1 scores for all thresholds from 0.0 to 1.0\n",
    "thresholds = np.arange(0.0, 1.01, 0.01)\n",
    "f1_scores = []\n",
    "\n",
    "for t in thresholds:\n",
    "    y_pred = (y_pred_proba >= t).astype(int)\n",
    "    f1 = f1_score(y_val, y_pred)\n",
    "    f1_scores.append(f1)\n",
    "\n",
    "f1_scores = np.array(f1_scores)\n",
    "\n",
    "# Find the best F1 score\n",
    "best_f1_idx = np.argmax(f1_scores)\n",
    "best_f1_threshold = thresholds[best_f1_idx]\n",
    "best_f1_score = f1_scores[best_f1_idx]\n",
    "\n",
    "print(f\"Best F1 Score: {best_f1_score:.4f}\")\n",
    "print(f\"At threshold: {best_f1_threshold:.3f}\")\n",
    "\n",
    "# Check the given options\n",
    "f1_options = [0.14, 0.34, 0.54, 0.74]\n",
    "print(f\"\\nGiven options and their closest match:\")\n",
    "for opt in f1_options:\n",
    "    diff = abs(opt - best_f1_score)\n",
    "    print(f\"  {opt}: difference = {diff:.4f}\")\n",
    "\n",
    "best_option_f1 = min(f1_options, key=lambda x: abs(x - best_f1_score))\n",
    "print(f\"\\nClosest option: {best_option_f1}\")\n",
    "\n",
    "# Plot F1 score vs threshold\n",
    "import matplotlib.pyplot as plt\n",
    "plt.figure(figsize=(10, 6))\n",
    "plt.plot(thresholds, f1_scores, linewidth=2, color='purple')\n",
    "plt.axvline(x=best_f1_threshold, color='red', linestyle='--', \n",
    "            label=f'Best F1={best_f1_score:.3f} at t={best_f1_threshold:.3f}')\n",
    "plt.xlabel('Threshold', fontsize=12)\n",
    "plt.ylabel('F1 Score', fontsize=12)\n",
    "plt.title('F1 Score vs Threshold', fontsize=14)\n",
    "plt.legend(fontsize=11)\n",
    "plt.grid(True, alpha=0.3)\n",
    "plt.xlim([0, 1])\n",
    "plt.ylim([0, 1])\n",
    "plt.show()\n",
    "\n",
    "print(\"\\n\" + \"=\"*60)\n",
    "print(\"Question 5: 5-Fold Cross-Validation Standard Deviation\")\n",
    "print(\"=\"*60)\n",
    "\n",
    "# Prepare the full training data\n",
    "df_full_train_copy = df_full_train.copy()\n",
    "y_full_train = df_full_train_copy.converted.values\n",
    "df_full_train_copy = df_full_train_copy.drop('converted', axis=1)\n",
    "\n",
    "# Prepare features\n",
    "train_dicts_full = df_full_train_copy[categorical + numerical].to_dict(orient='records')\n",
    "dv_cv = DictVectorizer(sparse=False)\n",
    "X_full_train = dv_cv.fit_transform(train_dicts_full)\n",
    "\n",
    "# Perform 5-Fold Cross-Validation with C=1.0\n",
    "kfold = KFold(n_splits=5, shuffle=True, random_state=1)\n",
    "model_cv = LogisticRegression(solver='liblinear', C=1.0, max_iter=1000, random_state=1)\n",
    "\n",
    "# Get cross-validation scores (using ROC AUC)\n",
    "cv_scores = cross_val_score(model_cv, X_full_train, y_full_train, \n",
    "                            cv=kfold, scoring='roc_auc')\n",
    "\n",
    "cv_mean = cv_scores.mean()\n",
    "cv_std = cv_scores.std()\n",
    "\n",
    "print(f\"5-Fold CV ROC AUC Scores: {cv_scores}\")\n",
    "print(f\"Mean: {cv_mean:.4f}\")\n",
    "print(f\"Standard Deviation: {cv_std:.4f}\")\n",
    "\n",
    "# Check the given options\n",
    "std_options = [0.0001, 0.006, 0.06, 0.36]\n",
    "print(f\"\\nGiven options and their difference from calculated std:\")\n",
    "for opt in std_options:\n",
    "    diff = abs(opt - cv_std)\n",
    "    print(f\"  {opt}: difference = {diff:.6f}\")\n",
    "\n",
    "best_option_std = min(std_options, key=lambda x: abs(x - cv_std))\n",
    "print(f\"\\nClosest option: {best_option_std}\")\n",
    "\n",
    "print(\"\\n\" + \"=\"*60)\n",
    "print(\"Question 6: Best C Parameter\")\n",
    "print(\"=\"*60)\n",
    "\n",
    "# Test different C values including the new options\n",
    "c_values = [0.000001, 0.001, 0.01, 0.1, 1, 10, 100]\n",
    "results = []\n",
    "\n",
    "for c in c_values:\n",
    "    # Perform 5-fold CV for each C\n",
    "    model_c = LogisticRegression(solver='liblinear', C=c, max_iter=1000, random_state=1)\n",
    "    scores = cross_val_score(model_c, X_full_train, y_full_train, \n",
    "                            cv=kfold, scoring='roc_auc')\n",
    "    mean_score = scores.mean()\n",
    "    std_score = scores.std()\n",
    "    \n",
    "    results.append({\n",
    "        'C': c,\n",
    "        'mean_roc_auc': mean_score,\n",
    "        'std_roc_auc': std_score\n",
    "    })\n",
    "    \n",
    "    print(f\"C={c:10.6f} | Mean ROC AUC: {mean_score:.4f} | Std: {std_score:.4f}\")\n",
    "\n",
    "# Find best C\n",
    "results_df = pd.DataFrame(results)\n",
    "best_c_idx = results_df['mean_roc_auc'].idxmax()\n",
    "best_c = results_df.loc[best_c_idx, 'C']\n",
    "best_score = results_df.loc[best_c_idx, 'mean_roc_auc']\n",
    "\n",
    "print(f\"\\nBest C: {best_c}\")\n",
    "print(f\"Best mean ROC AUC: {best_score:.4f}\")\n",
    "\n",
    "# Check given options\n",
    "c_options = [0.000001, 0.001, 1]\n",
    "print(f\"\\nScores for given options:\")\n",
    "for c_opt in c_options:\n",
    "    if c_opt in results_df['C'].values:\n",
    "        row = results_df[results_df['C'] == c_opt].iloc[0]\n",
    "        print(f\"  C={c_opt}: ROC AUC = {row['mean_roc_auc']:.4f}\")\n",
    "\n",
    "print(\"\\n\" + \"=\"*60)\n",
    "print(\"SUMMARY OF ANSWERS\")\n",
    "print(\"=\"*60)\n",
    "print(f\"Question 4 (F1 Score): {best_option_f1}\")\n",
    "print(f\"Question 5 (5-Fold CV Std): {best_option_std}\")\n",
    "print(f\"Question 6 (Best C): {best_c}\")\n",
    "print(\"=\"*60)\n"
   ]
  },
  {
   "cell_type": "code",
   "execution_count": null,
   "id": "2eb774eb-f954-42d4-a11a-acedf9bc1837",
   "metadata": {},
   "outputs": [],
   "source": []
  }
 ],
 "metadata": {
  "kernelspec": {
   "display_name": "Python 3 (ipykernel)",
   "language": "python",
   "name": "python3"
  },
  "language_info": {
   "codemirror_mode": {
    "name": "ipython",
    "version": 3
   },
   "file_extension": ".py",
   "mimetype": "text/x-python",
   "name": "python",
   "nbconvert_exporter": "python",
   "pygments_lexer": "ipython3",
   "version": "3.11.0"
  }
 },
 "nbformat": 4,
 "nbformat_minor": 5
}
